{
 "cells": [
  {
   "cell_type": "code",
   "execution_count": 1,
   "id": "b5ab91a7-ad1a-48ba-a07d-1538f1951088",
   "metadata": {},
   "outputs": [
    {
     "name": "stdout",
     "output_type": "stream",
     "text": [
      "Orjinal liste = [1, 2, 3, 4, 5, 6, 7, 8, 9, 10]\n",
      "----------------------------------------------------------------------------------------------------\n",
      "Karesi alınmıs liste = [1, 4, 9, 16, 25, 36, 49, 64, 81, 100]\n"
     ]
    }
   ],
   "source": [
    "# lamda ile bir değerin karesini alan fonksiyon yazabilirsiniz \n",
    "#ancak bu fonk itere edilebilir bir yapıya örneğin liste uygulamak istiyorsanız \n",
    "# mutlaka MAP REDUCE FILTER fonksiyonlarından birini kullanırsınız\n",
    "#hepsinin kullanım amacı farklıdır\n",
    "\n",
    "#MAP kullnımı\n",
    "my_list_1 = [x for x in range(1,11)]\n",
    "result_list_1 = list(map(lambda x:x**2,my_list_1))\n",
    "\n",
    "print(f\"Orjinal liste = {my_list_1}\")\n",
    "print(\"--\"*50)\n",
    "print(f\"Karesi alınmıs liste = {result_list_1}\")"
   ]
  },
  {
   "cell_type": "code",
   "execution_count": 6,
   "id": "0c409184-45d0-4548-b1e6-dc6c46c9b0a4",
   "metadata": {},
   "outputs": [
    {
     "name": "stdout",
     "output_type": "stream",
     "text": [
      "Orijinal liste =[1, 2, 3, 4, 5, 6, 7, 8, 9, 10]\n",
      "Orijinal liste =[11, 12, 13, 14, 15, 16, 17, 18, 19, 20]\n",
      "----------------------------------------------------------------------------------------------------\n",
      "toplam liste =[12, 14, 16, 18, 20, 22, 24, 26, 28, 30]\n"
     ]
    }
   ],
   "source": [
    "#birden ona kadar olan bir liste ile 11 den 20 ye kadar olan başka bir listede\n",
    "# bu iki listedeki aynı indeksteki değerleri toplayıp döndüren lambda kodu\n",
    "#iki parametre kullanılacak ve iki adet gerçek liste yan yana parametre olarak verilecek\n",
    "\n",
    "my_list_1 = [x for x in range(1,11)]\n",
    "my_list_2 = [x for x in range(11,21)]\n",
    "\n",
    "result_list_2= list(map(lambda x,y:x+y,my_list_1,my_list_2))\n",
    "\n",
    "print(f\"Orijinal liste ={my_list_1}\")\n",
    "print(f\"Orijinal liste ={my_list_2}\")\n",
    "print(\"--\"*50)\n",
    "print(f\"toplam liste ={result_list_2}\")"
   ]
  },
  {
   "cell_type": "code",
   "execution_count": 12,
   "id": "27de2c34-59b6-42d7-aa52-fb04164688b3",
   "metadata": {},
   "outputs": [
    {
     "name": "stdout",
     "output_type": "stream",
     "text": [
      "Calışanlar.items() = dict_items([('kübra', 65000), ('esra', 15000), ('melih', 80000), ('rojin', 70000)])\n",
      "----------------------------------------------------------------------------------------------------\n",
      "Calışanlar.items()[0] = ('kübra', 65000)\n",
      "Calışanlar.items()[0][0] = kübra\n",
      "Calışanlar.items()[0][1] = 65000\n",
      "----------------------------------------------------------------------------------------------------\n",
      "zamli_dict.items() = dict_items([('kübra', 84500.0), ('esra', 19500.0), ('melih', 104000.0), ('rojin', 91000.0)])\n"
     ]
    }
   ],
   "source": [
    "#calisanlar = (\"furkan\":65000, \"esra\":15000, \"melih\":80000, \"rojin\":70000)\n",
    "calisanlar = {\"kübra\": 65000, \"esra\": 15000, \"melih\": 80000, \"rojin\": 70000}\n",
    "\n",
    "zamli_dict =dict(map(lambda deger:(deger[0],deger[1]*1.3),calisanlar.items()))\n",
    "\n",
    "print(f\"Calışanlar.items() = {calisanlar.items()}\")\n",
    "print(\"--\"*50)\n",
    "deneme = list(calisanlar.items())\n",
    "print(f\"Calışanlar.items()[0] = {deneme[0]}\")\n",
    "print(f\"Calışanlar.items()[0][0] = {deneme[0][0]}\")              \n",
    "print(f\"Calışanlar.items()[0][1] = {deneme[0][1]}\") \n",
    "print(\"--\"*50)\n",
    "print(f\"zamli_dict.items() = {zamli_dict.items()}\")\n"
   ]
  },
  {
   "cell_type": "code",
   "execution_count": 15,
   "id": "3165c005-d81c-4ac6-9070-9029abadef80",
   "metadata": {},
   "outputs": [
    {
     "name": "stdout",
     "output_type": "stream",
     "text": [
      "orjinal sözlük = dict_items([('ahmet', 17), ('esra', 15), ('melih', 25), ('rojin', 21), ('elif', 19)])\n",
      "----------------------------------------------------------------------------------------------------\n",
      "işlenmiş sözlük = dict_items([('ahmet', 'Çocuktur'), ('esra', 'Çocuktur'), ('melih', 'Yetişkindir'), ('rojin', 'Yetişkindir'), ('elif', 'Yetişkindir')])\n"
     ]
    }
   ],
   "source": [
    "kisiler = {\"ahmet\":17, \"esra\": 15, \"melih\": 25, \"rojin\": 21,\"elif\":19}\n",
    "\n",
    "#yukarıda verilen kişiler ve onların yaşlarını analiz edin yaşı 18 den küçük olanlar için isim bilgisi,çocuktur yazıcak\n",
    "#18 ve üzeri yetişkin yazacak\n",
    "#lambda kullanarak kodu yaz\n",
    "\n",
    "'''analiz = lambda isim, yas: f\"{isim} {('çocuktur' if yas < 18 else 'yetişkin')}\"\n",
    "\n",
    "for isim, yas in kisiler.items():\n",
    "    print(analiz(isim, yas))\n",
    "\n",
    "yas_dict =dict(map(lambda deger:f\"{deger[0]},{\"Çocuktur\" if deger[1]<18 else \"Yetişkindir\"}\"))\n",
    "\n",
    "print(f\"orjinal sözlük = {kisiler.items()}\")\n",
    "print(\"--\"*50)\n",
    "print(f\"işlenmiş sözlük = {kisiler.items()}\")\n",
    "'''\n",
    "\n",
    "kisiler = {\"ahmet\": 17, \"esra\": 15, \"melih\": 25, \"rojin\": 21, \"elif\": 19}\n",
    "\n",
    "# Yaşlara göre analiz yapacak ve yeni bir dictionary oluşturacak lambda fonksiyonu\n",
    "yas_dict = dict(map(lambda deger: (deger[0], \"Çocuktur\" if deger[1] < 18 else \"Yetişkindir\"), kisiler.items()))\n",
    "\n",
    "print(f\"orjinal sözlük = {kisiler.items()}\")\n",
    "print(\"--\" * 50)\n",
    "print(f\"işlenmiş sözlük = {yas_dict.items()}\")\n",
    "\n",
    "\n",
    "\n"
   ]
  },
  {
   "cell_type": "code",
   "execution_count": null,
   "id": "33d1ebab-d1da-4505-bd34-74b313b48478",
   "metadata": {},
   "outputs": [],
   "source": []
  }
 ],
 "metadata": {
  "kernelspec": {
   "display_name": "Python 3 (ipykernel)",
   "language": "python",
   "name": "python3"
  },
  "language_info": {
   "codemirror_mode": {
    "name": "ipython",
    "version": 3
   },
   "file_extension": ".py",
   "mimetype": "text/x-python",
   "name": "python",
   "nbconvert_exporter": "python",
   "pygments_lexer": "ipython3",
   "version": "3.12.4"
  }
 },
 "nbformat": 4,
 "nbformat_minor": 5
}
