{
 "cells": [
  {
   "cell_type": "code",
   "execution_count": 1,
   "id": "28ff01d2-e455-474f-965b-6e1499da2317",
   "metadata": {},
   "outputs": [
    {
     "name": "stdout",
     "output_type": "stream",
     "text": [
      "10 sayısının lambda ile karesinin alınması= 100\n"
     ]
    }
   ],
   "source": [
    "#lambda ve map kullanımı \n",
    "#tek satırda fonksiyon tanımlama\n",
    "#formül --> lambda parametre:işlem\n",
    "#mutlaka lambda kelimesi kullanılmalı\n",
    "#birden fazla parametre olması durumunda virgüllerle ayrılır\n",
    "#gizli bir return varmış gibi düşünülür\n",
    "\n",
    "#lambda ile dışarıdan girilen sayının karesi\n",
    "kare_lm= lambda y:y**2\n",
    "print(f\"10 sayısının lambda ile karesinin alınması= {kare_lm(10)}\")\n"
   ]
  },
  {
   "cell_type": "code",
   "execution_count": 5,
   "id": "d98def36-4067-4ca2-8691-74d2a30ab5f4",
   "metadata": {},
   "outputs": [
    {
     "name": "stdout",
     "output_type": "stream",
     "text": [
      "Girilen metin 10 karakterden oluşur\n"
     ]
    }
   ],
   "source": [
    "#parametre olarak girilen bir str ifadenin kaç karakterden oluştuğunu bulan kod\n",
    "\n",
    "def karakter_sayısı(s):\n",
    "    return len(s)\n",
    "\n",
    "print(f\"Girilen metin {karakter_sayısı('ESRA AKGÜN')} karakterden oluşur\")\n"
   ]
  },
  {
   "cell_type": "code",
   "execution_count": 6,
   "id": "5f535c95-4f90-4ab3-b663-8502a2a4bc36",
   "metadata": {},
   "outputs": [
    {
     "name": "stdout",
     "output_type": "stream",
     "text": [
      "Girilen metin 10 karakterden oluşur\n"
     ]
    }
   ],
   "source": [
    "#lambda ile\n",
    "karakter_sayısı = lambda s: len(s)\n",
    "\n",
    "print(f\"Girilen metin {karakter_sayısı('ESRA AKGÜN')} karakterden oluşur\")\n"
   ]
  },
  {
   "cell_type": "code",
   "execution_count": 8,
   "id": "c617f2f3-bef6-4e75-965b-da26385bac01",
   "metadata": {},
   "outputs": [
    {
     "name": "stdout",
     "output_type": "stream",
     "text": [
      "ESRA AKGÜN 2 kelimeden oluşur\n"
     ]
    }
   ],
   "source": [
    "#esra akgün yazıldığında 2 değerini döndürecek \n",
    "def count_sentence(str_cumle):\n",
    "    return len(str_cumle.split())\n",
    "print(f\"ESRA AKGÜN {count_sentence('ESRA AKGÜN')} kelimeden oluşur\")\n"
   ]
  },
  {
   "cell_type": "code",
   "execution_count": 9,
   "id": "4198299f-13ca-40b0-86fe-cc46bc191c99",
   "metadata": {},
   "outputs": [
    {
     "name": "stdout",
     "output_type": "stream",
     "text": [
      "ESRA AKGÜN 2 kelimeden oluşur\n"
     ]
    }
   ],
   "source": [
    "count_sentence_lambda = lambda x:len(x.split())\n",
    "print(f\"ESRA AKGÜN {count_sentence_lambda('ESRA AKGÜN')} kelimeden oluşur\")"
   ]
  },
  {
   "cell_type": "code",
   "execution_count": 10,
   "id": "ffd78c9c-3203-4b4c-96b4-6d0d823e2a1e",
   "metadata": {},
   "outputs": [
    {
     "name": "stdout",
     "output_type": "stream",
     "text": [
      "5 ve 520 sayılarının toplamı 525\n"
     ]
    }
   ],
   "source": [
    "#girilen iki sayının toplamını döndüren fonksiyon\n",
    "\n",
    "def toplam(a,b):\n",
    "    return a+b\n",
    "print(f\"5 ve 520 sayılarının toplamı {toplam(5,520)}\")\n"
   ]
  },
  {
   "cell_type": "code",
   "execution_count": 12,
   "id": "d10868f0-076d-49b5-bb7c-a3c4e355c872",
   "metadata": {},
   "outputs": [
    {
     "name": "stdout",
     "output_type": "stream",
     "text": [
      "5 ve 520 sayılarının toplamı 525\n"
     ]
    }
   ],
   "source": [
    "toplam_lm = lambda x,y:x+y # çoklu olduğunda virgül koy\n",
    "print(f\"5 ve 520 sayılarının toplamı {toplam_lm(5,520)}\")\n"
   ]
  },
  {
   "cell_type": "code",
   "execution_count": 14,
   "id": "4f3c4bbe-f1b2-45dd-81bb-292f9887b976",
   "metadata": {},
   "outputs": [
    {
     "name": "stdout",
     "output_type": "stream",
     "text": [
      " 10 15 25 sayılarının ortalaması 16.666666666666668\n"
     ]
    }
   ],
   "source": [
    "#girilen üç adet sayının ortalamasını döndüren fonksiyon ve lambda kodu\n",
    "\n",
    "ortalama_lm = lambda a,b,c:(a+b+c)/3\n",
    "print(f\" 10 15 25 sayılarının ortalaması {ortalama_lm(10,15,25)}\")"
   ]
  },
  {
   "cell_type": "code",
   "execution_count": 16,
   "id": "5fa069a4-e2c6-4c6a-801d-f8896de5abb2",
   "metadata": {},
   "outputs": [
    {
     "name": "stdout",
     "output_type": "stream",
     "text": [
      " 16 sayısı ÇİFT sayıdır\n",
      " 17 sayısı TEK sayıdır\n"
     ]
    }
   ],
   "source": [
    "#lambda ile if else kullanımı\n",
    "#(x = p lambda x :\"parametre)\n",
    "# lambda x :\"true yanıtı\" if koşul else \"else yanıtı\"\n",
    "#girilen sayının tekse tek çiftse çift yazımı\n",
    "\n",
    "tek_cift = lambda sayi :\"ÇİFT\" if sayi%2==0 else \"TEK\"\n",
    "\n",
    "print(f\" 16 sayısı {tek_cift(16)} sayıdır\")\n",
    "print(f\" 17 sayısı {tek_cift(17)} sayıdır\")"
   ]
  },
  {
   "cell_type": "code",
   "execution_count": 33,
   "id": "ca946272-fbd7-4298-b96f-0e443406c159",
   "metadata": {},
   "outputs": [
    {
     "name": "stdout",
     "output_type": "stream",
     "text": [
      "7\n"
     ]
    },
    {
     "data": {
      "text/plain": [
       "'\\nif x>y and x>z:\\n    return x \\nelse :\\n    if y>z:\\n        return y\\n        \\nelse \\n  return z\\n     '"
      ]
     },
     "execution_count": 33,
     "metadata": {},
     "output_type": "execute_result"
    }
   ],
   "source": [
    "#girilen iki sayıdan büyüğünü ve küçüğünü döndüren lambda kodu\n",
    "\n",
    "buyuk_kucuk = lambda x,y,z: x if x>y and x>z else (y if y>z else z)\n",
    "\n",
    "print(buyuk_kucuk(5, 3, 7)) \n",
    "'''\n",
    "if x>y and x>z:\n",
    "    return x \n",
    "else :\n",
    "    if y>z:\n",
    "        return y\n",
    "        \n",
    "else \n",
    "  return z\n",
    "     '''\n",
    "\n"
   ]
  },
  {
   "cell_type": "code",
   "execution_count": 22,
   "id": "695a3083-960f-4440-bf3b-8c249540bcff",
   "metadata": {},
   "outputs": [
    {
     "name": "stdout",
     "output_type": "stream",
     "text": [
      "10\n"
     ]
    }
   ],
   "source": [
    "buyuk_sayi = lambda sayi1, sayi2: sayi1 if sayi1 > sayi2 else sayi2\n",
    "\n",
    "print(buyuk_sayi(5, 10))\n"
   ]
  },
  {
   "cell_type": "code",
   "execution_count": 23,
   "id": "5879bd6b-8e01-46a0-8eaa-a8862fa97119",
   "metadata": {},
   "outputs": [
    {
     "name": "stdout",
     "output_type": "stream",
     "text": [
      "5\n"
     ]
    }
   ],
   "source": [
    "kucuk_sayi= lambda sayi1, sayi2: sayi1 if sayi1 < sayi2 else sayi2\n",
    "print(kucuk_sayi(5, 10))"
   ]
  },
  {
   "cell_type": "code",
   "execution_count": 27,
   "id": "a61f400a-4886-41a9-95cd-4881808db377",
   "metadata": {},
   "outputs": [
    {
     "name": "stdout",
     "output_type": "stream",
     "text": [
      "29 derece için hava = ılıktır\n",
      "31 derece için hava = sıcaktır\n"
     ]
    }
   ],
   "source": [
    "#girilen hava sıcaklığı 30'dan küçükse ılık 30 veya 30'dan büyükse sıcak yazan lambda kodu\n",
    "\n",
    "hava_sicakligi = lambda sicaklik:\"ılıktır\" if sicaklik <30  else\"sıcaktır\" \n",
    "print(f\"29 derece için hava = {hava_sicakligi(29)}\")\n",
    "print(f\"31 derece için hava = {hava_sicakligi(31)}\")\n",
    "\n"
   ]
  },
  {
   "cell_type": "code",
   "execution_count": 42,
   "id": "8663742c-256f-4f9a-9bb0-3e832d7b7dff",
   "metadata": {},
   "outputs": [
    {
     "name": "stdout",
     "output_type": "stream",
     "text": [
      "hava sıcaklığı Soğuk\n",
      "hava sıcaklığı Ilık\n",
      "hava sıcaklığı Sıcak\n",
      "hava sıcaklığı Çok Sıcak\n",
      "hava sıcaklığı Tanımsız Değer\n"
     ]
    }
   ],
   "source": [
    "#0 ile 5 derece arası soğuk\n",
    "#6 ile 15 derece arası ılık\n",
    "#16 ile 25 derece arası sıcak\n",
    "# 26 ile 40 derece arası çok sıcak \n",
    "# hiçbiri değilse tanımsız değer yazsın \n",
    "\n",
    "\n",
    "#hava_sicakligi= lambda s: \"soğuktur\" if s<6 else \"ılıktır\" \n",
    "hava_sicakligi = lambda sicaklik: \"Soğuk\" if 0 <= sicaklik <= 5 else (\"Ilık\" if 6 <= sicaklik <= 15 else (\"Sıcak\" if 16 <= sicaklik <= 25 else (\"Çok Sıcak\" if 26 <= sicaklik <= 40 else \"Tanımsız Değer\")))\n",
    "print(f\"hava durumu {hava_sicakligi(5) }\")\n",
    "print(f\"hava durumu {hava_sicakligi(14) }\")\n",
    "print(f\"hava durumu {hava_sicakligi(20) }\")\n",
    "print(f\"hava durumu {hava_sicakligi(35) }\")\n",
    "print(f\"hava durumu {hava_sicakligi(50) }\")"
   ]
  },
  {
   "cell_type": "code",
   "execution_count": 56,
   "id": "0ba5de04-bbca-4c99-abf2-4764cfd9def6",
   "metadata": {},
   "outputs": [
    {
     "name": "stdout",
     "output_type": "stream",
     "text": [
      "ders notu harfi BB\n",
      "ders notu harfi BA\n",
      "ders notu harfi FF\n",
      "ders notu harfi AA\n",
      "ders notu harfi CB\n",
      "ders notu harfi FF\n"
     ]
    }
   ],
   "source": [
    "#91 ile 100 için AA\n",
    "#81-90 BA\n",
    "#71-80 BB\n",
    "#61-70 CB\n",
    "#51-60 CC\n",
    "#50 ve altı FF\n",
    "\n",
    "harf_notu = lambda harf:\"AA\" if 91 <= harf <=100 else (\"BA\" if 81 <= harf <=90 else (\"BB\" if 71 <= harf <=80 else (\"CB\" if 61 <= harf <= 70 else \"FF\")))\n",
    "\n",
    "print(f\"ders notu harfi {harf_notu(75)}\")\n",
    "print(f\"ders notu harfi {harf_notu(82)}\")\n",
    "print(f\"ders notu harfi {harf_notu(55)}\")\n",
    "print(f\"ders notu harfi {harf_notu(100)}\")\n",
    "print(f\"ders notu harfi {harf_notu(65)}\")\n",
    "print(f\"ders notu harfi {harf_notu(0)}\")"
   ]
  },
  {
   "cell_type": "code",
   "execution_count": null,
   "id": "0669c3d3-fc12-49e5-afaa-e71b78ee04e2",
   "metadata": {},
   "outputs": [],
   "source": []
  }
 ],
 "metadata": {
  "kernelspec": {
   "display_name": "Python 3 (ipykernel)",
   "language": "python",
   "name": "python3"
  },
  "language_info": {
   "codemirror_mode": {
    "name": "ipython",
    "version": 3
   },
   "file_extension": ".py",
   "mimetype": "text/x-python",
   "name": "python",
   "nbconvert_exporter": "python",
   "pygments_lexer": "ipython3",
   "version": "3.12.4"
  }
 },
 "nbformat": 4,
 "nbformat_minor": 5
}
